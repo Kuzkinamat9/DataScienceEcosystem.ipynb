{
 "cells": [
  {
   "cell_type": "markdown",
   "metadata": {},
   "source": [
    "# It`s a markdown\n"
   ]
  },
  {
   "cell_type": "markdown",
   "metadata": {},
   "source": [
    "## Intro"
   ]
  },
  {
   "cell_type": "markdown",
   "metadata": {},
   "source": [
    "### Цілі проекту\n",
    "\n",
    "1. Вивчити основи мови програмування Python.\n",
    "2. Ознайомитись з основними бібліотеками для науки про дані, такими як NumPy, Pandas та Matplotlib.\n",
    "3. Розуміти основні концепції та методи аналізу даних.\n",
    "4. Застосовувати вивчені знання для вирішення практичних завдань у науці про дані.\n",
    "5. Розвивати вміння візуалізації даних та представлення результатів аналізу.\n",
    "6. Продовжувати вивчення та поглиблювати знання в області науки про дані.\n",
    "\n",
    "Ці цілі допоможуть нам осягнути основи Python, вивчити ключові бібліотеки для науки про дані та розвинути навички аналізу та візуалізації даних. Успіх у досягненні цих цілей принесе нам багато користі й задоволення у нашому подальшому шляху у світі науки про дані.\n"
   ]
  },
  {
   "cell_type": "markdown",
   "metadata": {},
   "source": [
    "#### Top programming languages for data scientists in 2023:\n",
    "Python\n",
    "R\n",
    "SQL"
   ]
  },
  {
   "cell_type": "markdown",
   "metadata": {},
   "source": [
    "1. NumPy\n",
    "2. Pandas\n",
    "3. Matplotlib\n"
   ]
  },
  {
   "cell_type": "markdown",
   "metadata": {},
   "source": [
    "| Інструмент  | Опис                                 |\n",
    "|-------------|--------------------------------------|\n",
    "| NumPy       | Бібліотека для роботи з числовими масивами та матрицями у Python |\n",
    "| Pandas      | Бібліотека для обробки та аналізу даних у Python |\n",
    "| Matplotlib  | Бібліотека для візуалізації даних у Python |\n"
   ]
  },
  {
   "cell_type": "markdown",
   "metadata": {},
   "source": [
    "## Арифметичні вирази\n",
    "\n",
    "Арифметичні вирази використовуються для виконання різних математичних операцій у програмуванні. Деякі приклади арифметичних операторів:\n",
    "\n",
    "1. Додавання: `2 + 3` дорівнює `5`.\n",
    "2. Віднімання: `5 - 2` дорівнює `3`.\n",
    "3. Множення: `4 * 3` дорівнює `12`.\n",
    "4. Ділення: `10 / 2` дорівнює `5`.\n",
    "5. Ділення націло: `10 // 3` дорівнює `3`.\n",
    "6. Остача від ділення: `10 % 3` дорівнює `1`.\n",
    "7. Піднесення до степеня: `2 ** 3` дорівнює `8`.\n",
    "\n",
    "Ці приклади демонструють основні арифметичні операції, які можна виконувати у Python. Використовуючи ці оператори, ви можете обчислювати значення виразів та виконувати різні математичні операції у вашому коді.\n"
   ]
  },
  {
   "cell_type": "code",
   "execution_count": 6,
   "metadata": {},
   "outputs": [
    {
     "data": {
      "text/plain": [
       "(12, 7)"
      ]
     },
     "execution_count": 6,
     "metadata": {},
     "output_type": "execute_result"
    }
   ],
   "source": [
    "# Множення чисел\n",
    "a = 3\n",
    "b = 4\n",
    "результат_множення = a * b\n",
    "\n",
    "# Додавання чисел\n",
    "c = 2\n",
    "d = 5\n",
    "результат_додавання = c + d\n",
    "\n",
    "результат_множення, результат_додавання\n"
   ]
  },
  {
   "cell_type": "code",
   "execution_count": 7,
   "metadata": {},
   "outputs": [
    {
     "data": {
      "text/plain": [
       "2.0"
      ]
     },
     "execution_count": 7,
     "metadata": {},
     "output_type": "execute_result"
    }
   ],
   "source": [
    "# Конвертація хвилин в години\n",
    "хвилини = 120\n",
    "години = хвилини / 60\n",
    "\n",
    "години\n"
   ]
  },
  {
   "cell_type": "markdown",
   "metadata": {},
   "source": [
    "## Автор: Олена Черній\n",
    "\n",
    "У цьому проекті розробила: Олена Черній.\n",
    "\n",
    "Дата: <25.06.2023>\n"
   ]
  },
  {
   "cell_type": "code",
   "execution_count": 8,
   "metadata": {},
   "outputs": [
    {
     "data": {
      "text/plain": [
       "'C:\\\\Users\\\\chern'"
      ]
     },
     "execution_count": 8,
     "metadata": {},
     "output_type": "execute_result"
    }
   ],
   "source": [
    "import os\n",
    "os.getcwd()\n"
   ]
  },
  {
   "cell_type": "code",
   "execution_count": null,
   "metadata": {},
   "outputs": [],
   "source": []
  }
 ],
 "metadata": {
  "kernelspec": {
   "display_name": "Python 3",
   "language": "python",
   "name": "python3"
  },
  "language_info": {
   "codemirror_mode": {
    "name": "ipython",
    "version": 3
   },
   "file_extension": ".py",
   "mimetype": "text/x-python",
   "name": "python",
   "nbconvert_exporter": "python",
   "pygments_lexer": "ipython3",
   "version": "3.8.3"
  }
 },
 "nbformat": 4,
 "nbformat_minor": 4
}
